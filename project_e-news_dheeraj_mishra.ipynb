{
 "cells": [
  {
   "cell_type": "markdown",
   "metadata": {},
   "source": [
    "# E-news Express Project "
   ]
  },
  {
   "cell_type": "markdown",
   "metadata": {
    "id": "na3XXQqwxk4n"
   },
   "source": [
    "# **Index:**\n",
    "\n",
    "\n",
    "- <a href = #link0>0.Background</a>\n",
    "- <a href = #link1>1.Explore the dataset and extract insights using Exploratory Data Analysis</a>\n",
    "- <a href = #link2>2.Do the users spend more time on the new landing page than the old landing page?</a>\n",
    "- <a href = #link3>3.Is the conversion rate for the new page greater than the conversion rate for the old page?</a>\n",
    "- <a href = #link4>4.Does the converted status depend on the preferred language?</a>\n",
    "- <a href = #link5>5.Is the mean time spent on the new page same for the different language users?</a>\n",
    "\n",
    "\n",
    "\n",
    "\n",
    "\n",
    "\n",
    "\n",
    "\n",
    "\n",
    "\n"
   ]
  },
  {
   "cell_type": "markdown",
   "metadata": {},
   "source": [
    "# <a name='link0'>**0.\tBackground**</a>\n",
    "\n",
    "The E-news Express, an online news portal aims to expand its business by acquiring new subscribers. Every visitor to the website takes certain actions based on their interest. The company plans to analyze these interests and wants to determine whether a new feature will be effective or not. You have been assigned the task to decide whether the new landing page is more effective to gather new subscribers. Suppose you randomly selected 100 users and divided them equally into two groups. The old landing page is served to the first group (control group) and the new landing page is served to the second group (treatment group). Various data about the customers in both groups are collected in 'abtest.csv'. Perform the statistical analysis to answer the following questions using the collected data.\n",
    "\n",
    "## Objective: \n",
    "Determine whether the new landing page is more effective to gather new subscribers or not. \n",
    "\n",
    "## Key Questions:\n",
    "1.\tExplore the dataset and extract insights using Exploratory Data Analysis.\n",
    "2.\tDo the users spend more time on the new landing page than the old landing page?\n",
    "3.\tIs the conversion rate for the new page greater than the conversion rate for the old page?\n",
    "4.\tDoes the converted status depend on the preferred language? \n",
    "5.\tIs the mean time spent on the new page same for the different language users?\n",
    "\n",
    "\n",
    "## Data Description:\n",
    "\n",
    "1.\tuser_id - user ID of the person visiting the website.\n",
    "2.\tgroup - user belongs to the Control group or the Treatment group.\n",
    "3.\tlanding_page - whether the landing page is new or old.\n",
    "4.\ttime_spent_on_the_page - time (in minutes) spent by the user on the landing page.\n",
    "5.\tconverted - whether the user gets converted to a subscriber of the news portal or not.\n",
    "6.\tlanguage_preferred - language chosen by the user to view the landing page.\n"
   ]
  },
  {
   "cell_type": "markdown",
   "metadata": {},
   "source": [
    "### Import the necessary libraries - pandas, numpy, seaborn, matplotlib.pyplot"
   ]
  },
  {
   "cell_type": "code",
   "execution_count": 1,
   "metadata": {},
   "outputs": [
    {
     "name": "stdout",
     "output_type": "stream",
     "text": [
      "Requirement already satisfied: scipy==1.6.1 in c:\\users\\dm0535\\anaconda3\\lib\\site-packages (1.6.1)\n",
      "Requirement already satisfied: numpy>=1.16.5 in c:\\users\\dm0535\\anaconda3\\lib\\site-packages (from scipy==1.6.1) (1.20.1)\n"
     ]
    }
   ],
   "source": [
    "# install the scipy version 1.6.1. and restart the kernel after the successful installation\n",
    "!pip install scipy==1.6.1"
   ]
  },
  {
   "cell_type": "code",
   "execution_count": 2,
   "metadata": {},
   "outputs": [
    {
     "data": {
      "text/plain": [
       "'1.6.1'"
      ]
     },
     "execution_count": 2,
     "metadata": {},
     "output_type": "execute_result"
    }
   ],
   "source": [
    "# import the scipy and check the version to be sure that the version is 1.6.1.\n",
    "import scipy\n",
    "scipy.__version__"
   ]
  },
  {
   "cell_type": "code",
   "execution_count": 165,
   "metadata": {
    "id": "n1269wHJF96t"
   },
   "outputs": [],
   "source": [
    "#import the important packages\n",
    "import pandas as pd #library used for data manipulation and analysis\n",
    "import numpy as np # library used for working with arrays.\n",
    "import matplotlib.pyplot as plt # library for plots and visualisations\n",
    "import seaborn as sns # library for visualisations\n",
    "%matplotlib inline \n",
    "\n",
    "import scipy.stats as stats # this library contains a large number of probability distributions as well as a growing library of statistical functions.\n",
    "from   scipy.stats import chi2_contingency   # For Chi-Square test \n",
    "\n",
    "# Library to suppress warnings or deprecation notes \n",
    "import warnings\n",
    "warnings.filterwarnings('ignore')"
   ]
  },
  {
   "cell_type": "markdown",
   "metadata": {},
   "source": [
    "# <a name='link1'>**1.\tExplore the dataset and extract insights using Exploratory Data Analysis**</a>\n"
   ]
  },
  {
   "cell_type": "markdown",
   "metadata": {},
   "source": [
    "### Load the dataset"
   ]
  },
  {
   "cell_type": "code",
   "execution_count": 7,
   "metadata": {},
   "outputs": [],
   "source": [
    "data = pd.read_csv('abtest.csv')\n",
    "# saving a copy of original data into dataframe data0\n",
    "data0 = data.copy()"
   ]
  },
  {
   "cell_type": "markdown",
   "metadata": {},
   "source": [
    "### View the first few rows of the dataset"
   ]
  },
  {
   "cell_type": "code",
   "execution_count": 8,
   "metadata": {},
   "outputs": [
    {
     "data": {
      "text/html": [
       "<div>\n",
       "<style scoped>\n",
       "    .dataframe tbody tr th:only-of-type {\n",
       "        vertical-align: middle;\n",
       "    }\n",
       "\n",
       "    .dataframe tbody tr th {\n",
       "        vertical-align: top;\n",
       "    }\n",
       "\n",
       "    .dataframe thead th {\n",
       "        text-align: right;\n",
       "    }\n",
       "</style>\n",
       "<table border=\"1\" class=\"dataframe\">\n",
       "  <thead>\n",
       "    <tr style=\"text-align: right;\">\n",
       "      <th></th>\n",
       "      <th>user_id</th>\n",
       "      <th>group</th>\n",
       "      <th>landing_page</th>\n",
       "      <th>time_spent_on_the_page</th>\n",
       "      <th>converted</th>\n",
       "      <th>language_preferred</th>\n",
       "    </tr>\n",
       "  </thead>\n",
       "  <tbody>\n",
       "    <tr>\n",
       "      <th>0</th>\n",
       "      <td>546592</td>\n",
       "      <td>control</td>\n",
       "      <td>old</td>\n",
       "      <td>3.48</td>\n",
       "      <td>no</td>\n",
       "      <td>Spanish</td>\n",
       "    </tr>\n",
       "    <tr>\n",
       "      <th>1</th>\n",
       "      <td>546468</td>\n",
       "      <td>treatment</td>\n",
       "      <td>new</td>\n",
       "      <td>7.13</td>\n",
       "      <td>yes</td>\n",
       "      <td>English</td>\n",
       "    </tr>\n",
       "    <tr>\n",
       "      <th>2</th>\n",
       "      <td>546462</td>\n",
       "      <td>treatment</td>\n",
       "      <td>new</td>\n",
       "      <td>4.40</td>\n",
       "      <td>no</td>\n",
       "      <td>Spanish</td>\n",
       "    </tr>\n",
       "    <tr>\n",
       "      <th>3</th>\n",
       "      <td>546567</td>\n",
       "      <td>control</td>\n",
       "      <td>old</td>\n",
       "      <td>3.02</td>\n",
       "      <td>no</td>\n",
       "      <td>French</td>\n",
       "    </tr>\n",
       "    <tr>\n",
       "      <th>4</th>\n",
       "      <td>546459</td>\n",
       "      <td>treatment</td>\n",
       "      <td>new</td>\n",
       "      <td>4.75</td>\n",
       "      <td>yes</td>\n",
       "      <td>Spanish</td>\n",
       "    </tr>\n",
       "  </tbody>\n",
       "</table>\n",
       "</div>"
      ],
      "text/plain": [
       "   user_id      group landing_page  time_spent_on_the_page converted  \\\n",
       "0   546592    control          old                    3.48        no   \n",
       "1   546468  treatment          new                    7.13       yes   \n",
       "2   546462  treatment          new                    4.40        no   \n",
       "3   546567    control          old                    3.02        no   \n",
       "4   546459  treatment          new                    4.75       yes   \n",
       "\n",
       "  language_preferred  \n",
       "0            Spanish  \n",
       "1            English  \n",
       "2            Spanish  \n",
       "3             French  \n",
       "4            Spanish  "
      ]
     },
     "execution_count": 8,
     "metadata": {},
     "output_type": "execute_result"
    }
   ],
   "source": [
    "# looking at head (5 observations) \n",
    "data.head()"
   ]
  },
  {
   "cell_type": "markdown",
   "metadata": {},
   "source": [
    "**Observations**\n",
    "* user_id - This represents the user ID of the person visiting the website.\n",
    "* group - This represents whether the user belongs to the first group (control) or the second group (treatment).\n",
    "* landing_page - This represents whether the landing page is new or old.\n",
    "* time_spent_on_the_page - This represents the time (in minutes) spent by the user on the landing page.\n",
    "* converted - This represents whether the user gets converted to a subscriber of the news portal or not.\n",
    "* language_preferred - This represents the language chosen by the user to view the landing page.\n"
   ]
  },
  {
   "cell_type": "markdown",
   "metadata": {},
   "source": [
    "### Check the shape of the dataset"
   ]
  },
  {
   "cell_type": "code",
   "execution_count": 9,
   "metadata": {},
   "outputs": [
    {
     "data": {
      "text/plain": [
       "(100, 6)"
      ]
     },
     "execution_count": 9,
     "metadata": {},
     "output_type": "execute_result"
    }
   ],
   "source": [
    "data.shape"
   ]
  },
  {
   "cell_type": "markdown",
   "metadata": {},
   "source": [
    "*The dataset has 100 rows and 6 columns."
   ]
  },
  {
   "cell_type": "markdown",
   "metadata": {},
   "source": [
    "### Check the info()"
   ]
  },
  {
   "cell_type": "code",
   "execution_count": 11,
   "metadata": {},
   "outputs": [
    {
     "name": "stdout",
     "output_type": "stream",
     "text": [
      "<class 'pandas.core.frame.DataFrame'>\n",
      "RangeIndex: 100 entries, 0 to 99\n",
      "Data columns (total 6 columns):\n",
      " #   Column                  Non-Null Count  Dtype  \n",
      "---  ------                  --------------  -----  \n",
      " 0   user_id                 100 non-null    int64  \n",
      " 1   group                   100 non-null    object \n",
      " 2   landing_page            100 non-null    object \n",
      " 3   time_spent_on_the_page  100 non-null    float64\n",
      " 4   converted               100 non-null    object \n",
      " 5   language_preferred      100 non-null    object \n",
      "dtypes: float64(1), int64(1), object(4)\n",
      "memory usage: 4.8+ KB\n"
     ]
    }
   ],
   "source": [
    "data.info()"
   ]
  },
  {
   "cell_type": "markdown",
   "metadata": {},
   "source": [
    "**Observations**\n",
    "* All column have 100 observations indicating that there are zero missing values\n",
    "* group, landing_page, converted, language_preferred should be  categorical variables"
   ]
  },
  {
   "cell_type": "markdown",
   "metadata": {},
   "source": [
    "# Data Preprocessing"
   ]
  },
  {
   "cell_type": "markdown",
   "metadata": {},
   "source": [
    "### Fixing the datatypes"
   ]
  },
  {
   "cell_type": "code",
   "execution_count": 16,
   "metadata": {},
   "outputs": [],
   "source": [
    "# Coverting group, landing_page, converted, language_preferred from Object type to Categorical variables\n",
    "data['group'] = data.group.astype('category')\n",
    "data['landing_page'] = data.landing_page.astype('category')\n",
    "data['converted'] = data.converted.astype('category')\n",
    "data['language_preferred'] = data.language_preferred.astype('category')\n"
   ]
  },
  {
   "cell_type": "code",
   "execution_count": 17,
   "metadata": {},
   "outputs": [
    {
     "name": "stdout",
     "output_type": "stream",
     "text": [
      "<class 'pandas.core.frame.DataFrame'>\n",
      "RangeIndex: 100 entries, 0 to 99\n",
      "Data columns (total 6 columns):\n",
      " #   Column                  Non-Null Count  Dtype   \n",
      "---  ------                  --------------  -----   \n",
      " 0   user_id                 100 non-null    int64   \n",
      " 1   group                   100 non-null    category\n",
      " 2   landing_page            100 non-null    category\n",
      " 3   time_spent_on_the_page  100 non-null    float64 \n",
      " 4   converted               100 non-null    category\n",
      " 5   language_preferred      100 non-null    category\n",
      "dtypes: category(4), float64(1), int64(1)\n",
      "memory usage: 2.6 KB\n"
     ]
    }
   ],
   "source": [
    "data.info()"
   ]
  },
  {
   "cell_type": "markdown",
   "metadata": {},
   "source": [
    "### Summary of the data"
   ]
  },
  {
   "cell_type": "code",
   "execution_count": 20,
   "metadata": {},
   "outputs": [
    {
     "data": {
      "text/html": [
       "<div>\n",
       "<style scoped>\n",
       "    .dataframe tbody tr th:only-of-type {\n",
       "        vertical-align: middle;\n",
       "    }\n",
       "\n",
       "    .dataframe tbody tr th {\n",
       "        vertical-align: top;\n",
       "    }\n",
       "\n",
       "    .dataframe thead th {\n",
       "        text-align: right;\n",
       "    }\n",
       "</style>\n",
       "<table border=\"1\" class=\"dataframe\">\n",
       "  <thead>\n",
       "    <tr style=\"text-align: right;\">\n",
       "      <th></th>\n",
       "      <th>count</th>\n",
       "      <th>mean</th>\n",
       "      <th>std</th>\n",
       "      <th>min</th>\n",
       "      <th>25%</th>\n",
       "      <th>50%</th>\n",
       "      <th>75%</th>\n",
       "      <th>max</th>\n",
       "    </tr>\n",
       "  </thead>\n",
       "  <tbody>\n",
       "    <tr>\n",
       "      <th>user_id</th>\n",
       "      <td>100.0</td>\n",
       "      <td>546517.0000</td>\n",
       "      <td>52.295779</td>\n",
       "      <td>546443.00</td>\n",
       "      <td>546467.75</td>\n",
       "      <td>546492.500</td>\n",
       "      <td>546567.2500</td>\n",
       "      <td>546592.00</td>\n",
       "    </tr>\n",
       "    <tr>\n",
       "      <th>time_spent_on_the_page</th>\n",
       "      <td>100.0</td>\n",
       "      <td>5.3778</td>\n",
       "      <td>2.378166</td>\n",
       "      <td>0.19</td>\n",
       "      <td>3.88</td>\n",
       "      <td>5.415</td>\n",
       "      <td>7.0225</td>\n",
       "      <td>10.71</td>\n",
       "    </tr>\n",
       "  </tbody>\n",
       "</table>\n",
       "</div>"
      ],
      "text/plain": [
       "                        count         mean        std        min        25%  \\\n",
       "user_id                 100.0  546517.0000  52.295779  546443.00  546467.75   \n",
       "time_spent_on_the_page  100.0       5.3778   2.378166       0.19       3.88   \n",
       "\n",
       "                               50%          75%        max  \n",
       "user_id                 546492.500  546567.2500  546592.00  \n",
       "time_spent_on_the_page       5.415       7.0225      10.71  "
      ]
     },
     "execution_count": 20,
     "metadata": {},
     "output_type": "execute_result"
    }
   ],
   "source": [
    "data.describe().T"
   ]
  },
  {
   "cell_type": "markdown",
   "metadata": {},
   "source": [
    "**By default the describe() function shows only the summary of numeric variables only. Let's check the summary of non-numeric variables.**  "
   ]
  },
  {
   "cell_type": "code",
   "execution_count": 19,
   "metadata": {},
   "outputs": [
    {
     "data": {
      "text/html": [
       "<div>\n",
       "<style scoped>\n",
       "    .dataframe tbody tr th:only-of-type {\n",
       "        vertical-align: middle;\n",
       "    }\n",
       "\n",
       "    .dataframe tbody tr th {\n",
       "        vertical-align: top;\n",
       "    }\n",
       "\n",
       "    .dataframe thead th {\n",
       "        text-align: right;\n",
       "    }\n",
       "</style>\n",
       "<table border=\"1\" class=\"dataframe\">\n",
       "  <thead>\n",
       "    <tr style=\"text-align: right;\">\n",
       "      <th></th>\n",
       "      <th>count</th>\n",
       "      <th>unique</th>\n",
       "      <th>top</th>\n",
       "      <th>freq</th>\n",
       "    </tr>\n",
       "  </thead>\n",
       "  <tbody>\n",
       "    <tr>\n",
       "      <th>group</th>\n",
       "      <td>100</td>\n",
       "      <td>2</td>\n",
       "      <td>control</td>\n",
       "      <td>50</td>\n",
       "    </tr>\n",
       "    <tr>\n",
       "      <th>landing_page</th>\n",
       "      <td>100</td>\n",
       "      <td>2</td>\n",
       "      <td>new</td>\n",
       "      <td>50</td>\n",
       "    </tr>\n",
       "    <tr>\n",
       "      <th>converted</th>\n",
       "      <td>100</td>\n",
       "      <td>2</td>\n",
       "      <td>yes</td>\n",
       "      <td>54</td>\n",
       "    </tr>\n",
       "    <tr>\n",
       "      <th>language_preferred</th>\n",
       "      <td>100</td>\n",
       "      <td>3</td>\n",
       "      <td>French</td>\n",
       "      <td>34</td>\n",
       "    </tr>\n",
       "  </tbody>\n",
       "</table>\n",
       "</div>"
      ],
      "text/plain": [
       "                   count unique      top freq\n",
       "group                100      2  control   50\n",
       "landing_page         100      2      new   50\n",
       "converted            100      2      yes   54\n",
       "language_preferred   100      3   French   34"
      ]
     },
     "execution_count": 19,
     "metadata": {},
     "output_type": "execute_result"
    }
   ],
   "source": [
    "data.describe(exclude='number').T"
   ]
  },
  {
   "cell_type": "markdown",
   "metadata": {},
   "source": [
    "**Observations**\n",
    "* The variables 'group', 'landing_page', 'converted' each has 2 unique values\n",
    "* The variables 'language_preferred' has 3 unique values\n",
    "* There are equal number of observations from both control groups, 50 each\n",
    "* Out of all 100 observations in the test sample, 54 have converted page\n"
   ]
  },
  {
   "cell_type": "markdown",
   "metadata": {},
   "source": [
    "# EDA"
   ]
  },
  {
   "cell_type": "markdown",
   "metadata": {},
   "source": [
    "### Let us explore the numerical variables first"
   ]
  },
  {
   "cell_type": "code",
   "execution_count": 24,
   "metadata": {},
   "outputs": [],
   "source": [
    "# While doing uni-variate analysis of numerical variables we want to study their central tendency \n",
    "# and dispersion.\n",
    "# Let us write a function that will help us create a boxplot and histogram for any input numerical \n",
    "# variable.\n",
    "# This function takes the numerical column as the input and returns the boxplots \n",
    "# and histograms for the variable.\n",
    "# Let us see if this helps us write faster and cleaner code.    \n",
    "    \n",
    "# function to plot a boxplot and a histogram along the same scale.\n",
    "\n",
    "\n",
    "def histogram_boxplot(data, feature, figsize=(12, 7), kde=False, bins=None):\n",
    "    \"\"\"\n",
    "    Boxplot and histogram combined\n",
    "\n",
    "    data: dataframe\n",
    "    feature: dataframe column\n",
    "    figsize: size of figure (default (12,7))\n",
    "    kde: whether to show the density curve (default False)\n",
    "    bins: number of bins for histogram (default None)\n",
    "    \"\"\"\n",
    "    f2, (ax_box2, ax_hist2) = plt.subplots(\n",
    "        nrows=2,  # Number of rows of the subplot grid= 2\n",
    "        sharex=True,  # x-axis will be shared among all subplots\n",
    "        gridspec_kw={\"height_ratios\": (0.25, 0.75)},\n",
    "        figsize=figsize,\n",
    "    )  # creating the 2 subplots\n",
    "    sns.boxplot(\n",
    "        data=data, x=feature, ax=ax_box2, showmeans=True, color=\"violet\"\n",
    "    )  # boxplot will be created and a star will indicate the mean value of the column\n",
    "    sns.histplot(\n",
    "        data=data, x=feature, kde=kde, ax=ax_hist2, bins=bins, palette=\"winter\"\n",
    "    ) if bins else sns.histplot(\n",
    "        data=data, x=feature, kde=kde, ax=ax_hist2\n",
    "    )  # For histogram\n",
    "    ax_hist2.axvline(\n",
    "        data[feature].mean(), color=\"green\", linestyle=\"--\"\n",
    "    )  # Add mean to the histogram\n",
    "    ax_hist2.axvline(\n",
    "        data[feature].median(), color=\"black\", linestyle=\"-\"\n",
    "    )  # Add median to the histogram"
   ]
  },
  {
   "cell_type": "markdown",
   "metadata": {},
   "source": [
    "## Observations on Time Spent On The Page\n"
   ]
  },
  {
   "cell_type": "code",
   "execution_count": 27,
   "metadata": {},
   "outputs": [
    {
     "data": {
      "image/png": "[encoded data removed]",
      "text/plain": [
       "<Figure size 864x504 with 2 Axes>"
      ]
     },
     "metadata": {
      "needs_background": "light"
     },
     "output_type": "display_data"
    }
   ],
   "source": [
    "histogram_boxplot(data, 'time_spent_on_the_page')"
   ]
  },
  {
   "cell_type": "markdown",
   "metadata": {},
   "source": [
    "**Observations**\n",
    "* Time Spent on Page distribution is close to normal\n",
    "* There are no outliers"
   ]
  },
  {
   "cell_type": "markdown",
   "metadata": {},
   "source": [
    "## Let's explore the categorical variables now"
   ]
  },
  {
   "cell_type": "code",
   "execution_count": 29,
   "metadata": {},
   "outputs": [],
   "source": [
    "# function to create labeled barplots\n",
    "\n",
    "\n",
    "def labeled_barplot(data, feature, perc=False, n=None):\n",
    "    \"\"\"\n",
    "    Barplot with percentage at the top\n",
    "\n",
    "    data: dataframe\n",
    "    feature: dataframe column\n",
    "    perc: whether to display percentages instead of count (default is False)\n",
    "    n: displays the top n category levels (default is None, i.e., display all levels)\n",
    "    \"\"\"\n",
    "\n",
    "    total = len(data[feature])  # length of the column\n",
    "    count = data[feature].nunique()\n",
    "    if n is None:\n",
    "        plt.figure(figsize=(count + 1, 5))\n",
    "    else:\n",
    "        plt.figure(figsize=(n + 1, 5))\n",
    "\n",
    "    plt.xticks(rotation=90, fontsize=15)\n",
    "    ax = sns.countplot(\n",
    "        data=data,\n",
    "        x=feature,\n",
    "        palette=\"Paired\",\n",
    "        order=data[feature].value_counts().index[:n].sort_values(),\n",
    "    )\n",
    "\n",
    "    for p in ax.patches:\n",
    "        if perc == True:\n",
    "            label = \"{:.1f}%\".format(\n",
    "                100 * p.get_height() / total\n",
    "            )  # percentage of each class of the category\n",
    "        else:\n",
    "            label = p.get_height()  # count of each level of the category\n",
    "\n",
    "        x = p.get_x() + p.get_width() / 2  # width of the plot\n",
    "        y = p.get_height()  # height of the plot\n",
    "\n",
    "        ax.annotate(\n",
    "            label,\n",
    "            (x, y),\n",
    "            ha=\"center\",\n",
    "            va=\"center\",\n",
    "            size=12,\n",
    "            xytext=(0, 5),\n",
    "            textcoords=\"offset points\",\n",
    "        )  # annotate the percentage\n",
    "\n",
    "    plt.show()  # show the plot"
   ]
  },
  {
   "cell_type": "markdown",
   "metadata": {},
   "source": [
    "## Observations on Group"
   ]
  },
  {
   "cell_type": "code",
   "execution_count": 31,
   "metadata": {},
   "outputs": [
    {
     "data": {
      "text/plain": [
       "<Figure size 720x504 with 0 Axes>"
      ]
     },
     "metadata": {},
     "output_type": "display_data"
    },
    {
     "data": {
      "image/png": "[encoded data removed]",
      "text/plain": [
       "<Figure size 216x360 with 1 Axes>"
      ]
     },
     "metadata": {
      "needs_background": "light"
     },
     "output_type": "display_data"
    }
   ],
   "source": [
    "plt.figure(figsize=(10,7))\n",
    "labeled_barplot(data, 'group', perc=True)"
   ]
  },
  {
   "cell_type": "markdown",
   "metadata": {},
   "source": [
    "**Observations**\n",
    "* There are equal number of Control and Treatment observations"
   ]
  },
  {
   "cell_type": "markdown",
   "metadata": {},
   "source": [
    "## Observations on  Landing Page"
   ]
  },
  {
   "cell_type": "code",
   "execution_count": 32,
   "metadata": {},
   "outputs": [
    {
     "data": {
      "text/plain": [
       "<Figure size 720x504 with 0 Axes>"
      ]
     },
     "metadata": {},
     "output_type": "display_data"
    },
    {
     "data": {
      "image/png": "[encoded data removed]",
      "text/plain": [
       "<Figure size 216x360 with 1 Axes>"
      ]
     },
     "metadata": {
      "needs_background": "light"
     },
     "output_type": "display_data"
    }
   ],
   "source": [
    "plt.figure(figsize=(10,7))\n",
    "labeled_barplot(data, 'landing_page', perc=True)"
   ]
  },
  {
   "cell_type": "markdown",
   "metadata": {},
   "source": [
    "**Observations**\n",
    "* The observations are uniformally and equally distributed accross both landing pages\n",
    "* There are equal number of users for both the new and old page"
   ]
  },
  {
   "cell_type": "markdown",
   "metadata": {},
   "source": [
    "## Observations on  Converted"
   ]
  },
  {
   "cell_type": "code",
   "execution_count": 33,
   "metadata": {},
   "outputs": [
    {
     "data": {
      "text/plain": [
       "<Figure size 720x504 with 0 Axes>"
      ]
     },
     "metadata": {},
     "output_type": "display_data"
    },
    {
     "data": {
      "image/png": "[encoded data removed]",
      "text/plain": [
       "<Figure size 216x360 with 1 Axes>"
      ]
     },
     "metadata": {
      "needs_background": "light"
     },
     "output_type": "display_data"
    }
   ],
   "source": [
    "plt.figure(figsize=(10,7))\n",
    "labeled_barplot(data, 'converted', perc=True)"
   ]
  },
  {
   "cell_type": "markdown",
   "metadata": {},
   "source": [
    "**Observations**\n",
    "* 54% of converted observations compared to 46% of non-converted observations"
   ]
  },
  {
   "cell_type": "markdown",
   "metadata": {},
   "source": [
    "## Observations on  Language Preferred"
   ]
  },
  {
   "cell_type": "code",
   "execution_count": 35,
   "metadata": {},
   "outputs": [
    {
     "data": {
      "text/plain": [
       "<Figure size 720x504 with 0 Axes>"
      ]
     },
     "metadata": {},
     "output_type": "display_data"
    },
    {
     "data": {
      "image/png": "[encoded data removed]",
      "text/plain": [
       "<Figure size 288x360 with 1 Axes>"
      ]
     },
     "metadata": {
      "needs_background": "light"
     },
     "output_type": "display_data"
    }
   ],
   "source": [
    "plt.figure(figsize=(10,7))\n",
    "labeled_barplot(data, 'language_preferred', perc=True)"
   ]
  },
  {
   "cell_type": "markdown",
   "metadata": {},
   "source": [
    "**Observations**\n",
    "* There are equal number of French and Spanish preferring users are present in the sample data-set\n",
    "* The count of English preferring users is slightly less than French and Spanish in the sample data-set\n"
   ]
  },
  {
   "cell_type": "markdown",
   "metadata": {},
   "source": [
    "## Bivariate Analysis"
   ]
  },
  {
   "cell_type": "markdown",
   "metadata": {},
   "source": [
    "**Plot bivariate charts between variables to understand their interaction with each other.**"
   ]
  },
  {
   "cell_type": "markdown",
   "metadata": {},
   "source": [
    "### Relationship between Converted and Time Spent variables"
   ]
  },
  {
   "cell_type": "code",
   "execution_count": 47,
   "metadata": {},
   "outputs": [
    {
     "data": {
      "image/png": "[encoded data removed]",
      "text/plain": [
       "<Figure size 1080x504 with 1 Axes>"
      ]
     },
     "metadata": {
      "needs_background": "light"
     },
     "output_type": "display_data"
    }
   ],
   "source": [
    "plt.figure(figsize=(15,7))           \n",
    "sns.boxplot(data['converted'],data['time_spent_on_the_page'])\n",
    "plt.ylabel('Time Spent on Page')\n",
    "plt.xlabel('Converted')\n",
    "plt.show()"
   ]
  },
  {
   "cell_type": "markdown",
   "metadata": {},
   "source": [
    "**Observations**\n",
    "* Time spent on page has few outliers.\n",
    "* There are more numbers of outliers for Converted (yes) cases\n"
   ]
  },
  {
   "cell_type": "markdown",
   "metadata": {},
   "source": [
    "### Relationship between Language Preferred and Time Spent variables"
   ]
  },
  {
   "cell_type": "code",
   "execution_count": 189,
   "metadata": {},
   "outputs": [
    {
     "data": {
      "image/png": "[encoded data removed]",
      "text/plain": [
       "<Figure size 1080x504 with 1 Axes>"
      ]
     },
     "metadata": {
      "needs_background": "light"
     },
     "output_type": "display_data"
    }
   ],
   "source": [
    "plt.figure(figsize=(15,7))           \n",
    "sns.boxplot(data['language_preferred'],data['time_spent_on_the_page'])\n",
    "plt.ylabel('Time Spent on Page')\n",
    "plt.xlabel('Language Preferred')\n",
    "plt.show()"
   ]
  },
  {
   "cell_type": "markdown",
   "metadata": {},
   "source": [
    "**Observations**\n",
    "* The mean time spent on page is very similar accross all languages \n",
    "* There seems to few outliers on time spent for Spanish preferring users\n",
    "* The Interquartile Range (or IQR) which is the middle 50% of scores (i.e., the range between the 25th and 75th percentile) for Spanish users is smaller than the other two languages. "
   ]
  },
  {
   "cell_type": "markdown",
   "metadata": {},
   "source": [
    "### Relationship between Group and Time Spent variables"
   ]
  },
  {
   "cell_type": "code",
   "execution_count": 191,
   "metadata": {},
   "outputs": [
    {
     "data": {
      "image/png": "[encoded data removed]",
      "text/plain": [
       "<Figure size 1080x504 with 1 Axes>"
      ]
     },
     "metadata": {
      "needs_background": "light"
     },
     "output_type": "display_data"
    }
   ],
   "source": [
    "plt.figure(figsize=(15,7))           \n",
    "sns.boxplot(data['group'],data['time_spent_on_the_page'])\n",
    "plt.ylabel('Time Spent on Page')\n",
    "plt.xlabel('Group')\n",
    "plt.show()"
   ]
  },
  {
   "cell_type": "markdown",
   "metadata": {},
   "source": [
    "**Observations**\n",
    "* The control group (old page) has wide whiskers, time spent dispersion (spread) is larger\n",
    "* The treatment group (new page) has narrower whiskers, indicating There seems to few outliers on time spent for Spanish preferring users\n",
    "* The Interquartile Range (or IQR) which is the middle 50% of scores (i.e., the range between the 25th and 75th percentile) for Treatment group users is much smaller than the other Control group users. "
   ]
  },
  {
   "cell_type": "code",
   "execution_count": 78,
   "metadata": {},
   "outputs": [
    {
     "data": {
      "text/plain": [
       "group      language_preferred  converted\n",
       "control    English             no           1.776000\n",
       "                               yes          5.671818\n",
       "           French              no           3.669286\n",
       "                               yes          7.300000\n",
       "           Spanish             no           3.688000\n",
       "                               yes          6.457143\n",
       "treatment  English             no           5.506667\n",
       "                               yes          7.358000\n",
       "           French              no           4.400000\n",
       "                               yes          6.945000\n",
       "           Spanish             no           4.660000\n",
       "                               yes          6.476364\n",
       "Name: time_spent_on_the_page, dtype: float64"
      ]
     },
     "execution_count": 78,
     "metadata": {},
     "output_type": "execute_result"
    }
   ],
   "source": [
    "# Check if the trend is \"time spent on page\" is similar across control group, language preference and conversion\n",
    "data.groupby(by = ['group','language_preferred','converted'])['time_spent_on_the_page'].mean()"
   ]
  },
  {
   "cell_type": "markdown",
   "metadata": {},
   "source": [
    "**Observations**\n",
    "* The mean time-spent-on-page is higher for converted class of users compared to those who are not coverted, regardless of which group or language they belong to."
   ]
  },
  {
   "cell_type": "code",
   "execution_count": 199,
   "metadata": {
    "scrolled": true
   },
   "outputs": [
    {
     "data": {
      "image/png": "[encoded data removed]",
      "text/plain": [
       "<Figure size 1224x504 with 1 Axes>"
      ]
     },
     "metadata": {
      "needs_background": "light"
     },
     "output_type": "display_data"
    }
   ],
   "source": [
    "plt.figure(figsize=(17,7))           \n",
    "sns.violinplot(data['converted'],data['time_spent_on_the_page'])\n",
    "plt.ylabel('Time Spent on Page')\n",
    "plt.xlabel('Converted')\n",
    "plt.show()\n"
   ]
  },
  {
   "cell_type": "markdown",
   "metadata": {},
   "source": [
    "**Observations**\n",
    "* The violin plot helps us see the distribution of quantitative data. We see here that users who converted have spent more time on the site and usuallly hover around 6-7 minutes on average before converting."
   ]
  },
  {
   "cell_type": "markdown",
   "metadata": {},
   "source": [
    "## Multivariate Analysis"
   ]
  },
  {
   "cell_type": "markdown",
   "metadata": {},
   "source": [
    "### Relationship between Time Spent, Converted, and Language"
   ]
  },
  {
   "cell_type": "code",
   "execution_count": 205,
   "metadata": {},
   "outputs": [
    {
     "data": {
      "image/png": "[encoded data removed]",
      "text/plain": [
       "<Figure size 1080x504 with 1 Axes>"
      ]
     },
     "metadata": {
      "needs_background": "light"
     },
     "output_type": "display_data"
    }
   ],
   "source": [
    "plt.figure(figsize=(15,7))\n",
    "sns.lineplot(x=\"language_preferred\", y=\"time_spent_on_the_page\", ci=95, data=data, hue='converted')\n",
    "plt.ylabel('time_spent_on_the_page')\n",
    "plt.xlabel('Language Preferred')\n",
    "plt.show()"
   ]
  },
  {
   "cell_type": "markdown",
   "metadata": {},
   "source": [
    "**Observations**\n",
    "* Users have spent more time on the page when converted for all languages\n",
    "* French have spent slighty higher time when converted \n"
   ]
  },
  {
   "cell_type": "markdown",
   "metadata": {},
   "source": [
    "### Relationship between Time Spent, Converted, and Count of users\n"
   ]
  },
  {
   "cell_type": "code",
   "execution_count": 206,
   "metadata": {},
   "outputs": [
    {
     "data": {
      "text/plain": [
       "<Figure size 1080x504 with 0 Axes>"
      ]
     },
     "metadata": {},
     "output_type": "display_data"
    },
    {
     "data": {
      "image/png": "[encoded data removed]",
      "text/plain": [
       "<Figure size 418.375x360 with 1 Axes>"
      ]
     },
     "metadata": {
      "needs_background": "light"
     },
     "output_type": "display_data"
    }
   ],
   "source": [
    "plt.figure(figsize=(15,7))\n",
    "sns.displot(data=data, x=\"time_spent_on_the_page\", hue=\"converted\") #, kind=\"kde\")\n",
    "plt.ylabel('count')\n",
    "plt.xlabel('time_spent_on_the_page')\n",
    "plt.show()"
   ]
  },
  {
   "cell_type": "markdown",
   "metadata": {},
   "source": [
    "**Observations**\n",
    "* This again confirms that users spend more time on the page when converted\n",
    "* When users has invested ~6 minutes on the page, they usually convert "
   ]
  },
  {
   "cell_type": "markdown",
   "metadata": {},
   "source": [
    "# <a name='link2'>**2.\tDo the users spend more time on the new landing page than the old landing page?**</a>"
   ]
  },
  {
   "cell_type": "markdown",
   "metadata": {
    "id": "imkkvBHLCr1p"
   },
   "source": [
    "### Two Independent Sample T-test for Equality of Means - Unequal Std Dev\n"
   ]
  },
  {
   "cell_type": "markdown",
   "metadata": {
    "id": "JFYmMSXAD5r8"
   },
   "source": [
    "\n",
    "\n",
    "Use level of significance $\\alpha$ = 0.05"
   ]
  },
  {
   "cell_type": "code",
   "execution_count": 129,
   "metadata": {},
   "outputs": [],
   "source": [
    "# create separate dataframes for old and new page observations\n",
    "data_oldpage = data.where(data[\"landing_page\"] == 'old').dropna()\n",
    "data_newpage = data.where(data[\"landing_page\"] == 'new').dropna()\n"
   ]
  },
  {
   "cell_type": "markdown",
   "metadata": {},
   "source": [
    "### Let's check for unequal std dev"
   ]
  },
  {
   "cell_type": "code",
   "execution_count": 131,
   "metadata": {},
   "outputs": [
    {
     "name": "stdout",
     "output_type": "stream",
     "text": [
      "stddev_oldpage: 2.581974849306046\n",
      "stddev_newpage: 1.8170310387878263\n"
     ]
    }
   ],
   "source": [
    "stddev_oldpage = data_oldpage[\"time_spent_on_the_page\"].std()\n",
    "stddev_newpage = data_newpage[\"time_spent_on_the_page\"].std()\n",
    "print('stddev_oldpage:', stddev_oldpage)\n",
    "print('stddev_newpage:',stddev_newpage)"
   ]
  },
  {
   "cell_type": "markdown",
   "metadata": {},
   "source": [
    "* Unequal Std Dev"
   ]
  },
  {
   "cell_type": "code",
   "execution_count": 209,
   "metadata": {},
   "outputs": [
    {
     "data": {
      "image/png": "[encoded data removed]",
      "text/plain": [
       "<Figure size 1080x504 with 1 Axes>"
      ]
     },
     "metadata": {
      "needs_background": "light"
     },
     "output_type": "display_data"
    }
   ],
   "source": [
    "plt.figure(figsize=(15,7))           \n",
    "sns.boxplot(data['landing_page'],data['time_spent_on_the_page'])\n",
    "plt.ylabel('Time Spent on Page')\n",
    "plt.xlabel('landing_page')\n",
    "plt.show()"
   ]
  },
  {
   "cell_type": "markdown",
   "metadata": {},
   "source": [
    "**Observations**\n",
    "*  With help of boxplot, visual analysis shows that time spent on new page by users is greater than time spent on old page"
   ]
  },
  {
   "cell_type": "markdown",
   "metadata": {
    "id": "f5_ECLi6YZA2"
   },
   "source": [
    "### Let's write the null and alternate hypotheses"
   ]
  },
  {
   "cell_type": "markdown",
   "metadata": {
    "id": "UjzLRZUjSLig"
   },
   "source": [
    "Let $\\mu_n, \\mu_o$ be the mean of time spent on page for new and old page respectively.\n",
    "\n",
    "We will test the null hypothesis\n",
    "\n",
    ">$H_0:\\mu_n=\\mu_o$\n",
    "\n",
    "against the alternate hypothesis\n",
    "\n",
    ">$H_a:\\mu_n>\\mu_o$"
   ]
  },
  {
   "cell_type": "markdown",
   "metadata": {},
   "source": [
    "### Let's test whether the T-test assumptions are satisfied or not\n",
    "\n",
    "* Continuous data - Yes, the \"time spent on page\" is measured on a continuous scale.\n",
    "* Since the sample sizes for each group (old and new) is 50 (which is > 30), Central Limit Theorem states that the distribution of sample means will be normal.\n",
    "* Independent populations - As we are taking random samples for two different groups, the two samples are from two independent populations.\n",
    "* Unequal population standard deviations - As the sample standard deviations are different, the population standard deviations may be assumed to be different.\n",
    "* Random sampling from the population - Yes, we are informed that the collected sample a simple random sample.\n",
    "\n",
    "Voila! We can use two sample T-test for this problem."
   ]
  },
  {
   "cell_type": "markdown",
   "metadata": {
    "id": "Za3CtsidYe2a"
   },
   "source": [
    "### Let's find the p-value"
   ]
  },
  {
   "cell_type": "code",
   "execution_count": 135,
   "metadata": {},
   "outputs": [
    {
     "name": "stdout",
     "output_type": "stream",
     "text": [
      "The p-value is  0.0001392381225166549\n"
     ]
    }
   ],
   "source": [
    "#import the required functions\n",
    "from scipy.stats import ttest_ind\n",
    "\n",
    "# find the p-value\n",
    "test_stat, p_value = ttest_ind(data_newpage['time_spent_on_the_page'], data_oldpage['time_spent_on_the_page'], equal_var = False, alternative = 'greater')\n",
    "print('The p-value is ', p_value)"
   ]
  },
  {
   "cell_type": "markdown",
   "metadata": {},
   "source": [
    "### Insight\n",
    "As the p-value (~0.00013) is less than the level of significance, we can reject the null hypothesis. Hence, we do have enough evidence to support the claim that time spent on new page by users is greater than time spent on old page"
   ]
  },
  {
   "cell_type": "markdown",
   "metadata": {},
   "source": [
    "# <a name='link3'>**3.\tIs the conversion rate for the new page greater than the conversion rate for the old page?**</a>"
   ]
  },
  {
   "cell_type": "code",
   "execution_count": 215,
   "metadata": {},
   "outputs": [
    {
     "data": {
      "text/plain": [
       "<Figure size 1080x504 with 0 Axes>"
      ]
     },
     "metadata": {},
     "output_type": "display_data"
    },
    {
     "data": {
      "image/png": "[encoded data removed]",
      "text/plain": [
       "<Figure size 418.375x360 with 1 Axes>"
      ]
     },
     "metadata": {
      "needs_background": "light"
     },
     "output_type": "display_data"
    }
   ],
   "source": [
    "plt.figure(figsize=(15,7))\n",
    "sns.displot(data=data, x=\"landing_page\", hue=\"converted\") \n",
    "plt.ylabel('count')\n",
    "plt.xlabel('landing_page')\n",
    "plt.show()"
   ]
  },
  {
   "cell_type": "markdown",
   "metadata": {},
   "source": [
    "**Observations**\n",
    "*  With help of displot, visual analysis shows we have more users who converted on the new page vs old page. Shaded gray color show where both yes and no are present."
   ]
  },
  {
   "cell_type": "markdown",
   "metadata": {},
   "source": [
    "### Two Proportion Z-test"
   ]
  },
  {
   "cell_type": "markdown",
   "metadata": {},
   "source": [
    "### Let's revisit the example\n",
    "\n",
    "The design team of the company has created a new landing page. You randomly selected 100 users and divided them equally into two groups. The old landing page is served to the first group (control group) and the new landing page is served to the second group (treatment group). Conversion rate is defined as the proportion of users who visit the landing page and get converted. \n",
    "\n",
    "For new page, there are 33 conversions out of 50 users and for old page, there are 21 conversions out of 50 users. \n",
    "\n",
    "At 5% level of significance, do we have enough statistical evidence to conclude that the conversion rate for the new page greater than the conversion rate for the old page"
   ]
  },
  {
   "cell_type": "code",
   "execution_count": 228,
   "metadata": {},
   "outputs": [
    {
     "data": {
      "image/png": "[encoded data removed]",
      "text/plain": [
       "<Figure size 720x504 with 1 Axes>"
      ]
     },
     "metadata": {
      "needs_background": "light"
     },
     "output_type": "display_data"
    }
   ],
   "source": [
    "# define the figure and plot; modify the countplot figure size\n",
    "countplt, ax = plt.subplots(figsize = (10,7))\n",
    "ax =sns.countplot(x = 'landing_page', data=data, hue='converted')"
   ]
  },
  {
   "cell_type": "markdown",
   "metadata": {},
   "source": [
    "**Observations**\n",
    "*  With help of countplot, visually it appears that the new_page has higher conversion rate compared to old page."
   ]
  },
  {
   "cell_type": "markdown",
   "metadata": {},
   "source": [
    "### Let's write the null and alternative hypothesis\n",
    "Let $p_n,p_o$ be the proportions of users who visit the page and get converted for new and old page respectively.\n",
    "\n",
    "We will test the null hypothesis\n",
    "\n",
    ">$H_0:p_n =p_0$\n",
    "\n",
    "against the alternate hypothesis\n",
    "\n",
    ">$H_a:p_n > p_o$"
   ]
  },
  {
   "cell_type": "markdown",
   "metadata": {},
   "source": [
    "### Let's test whether the Z-test assumptions are satisfied or not\n",
    "\n",
    "*   Binomally distributed population - Yes, a user is either converted or not converted.\n",
    "*   Random sampling from the population - Yes, we are informed that the collected sample is a simple random sample of 100 users.  \n",
    "*   Can the binomial distribution approximated to normal distribution - Yes. For binary data, CLT works slower than usual. The standard thing is to check whether np and n(1-p) are greater than or equal to 10. Here, n and p refer to the sample size and sample proportion respectively.\n",
    ">$np_n = 50\\cdot \\frac{33}{50} =33 \\geq 10\\\\\n",
    "n(1-p_n) = 50 \\cdot \\frac{50-33}{50} =17 \\geq 10 \\\\\n",
    "np_o = 50\\cdot \\frac{21}{50} =21 \\geq 10\\\\\n",
    "n(1-p_o) = 50 \\cdot \\frac{50-21}{50} =29 \\geq 10 \\\\ $"
   ]
  },
  {
   "cell_type": "markdown",
   "metadata": {},
   "source": [
    "### Let's find the p-value"
   ]
  },
  {
   "cell_type": "code",
   "execution_count": 143,
   "metadata": {},
   "outputs": [
    {
     "name": "stdout",
     "output_type": "stream",
     "text": [
      "The p-value is 0.008026308204056278\n"
     ]
    }
   ],
   "source": [
    "# import the required fuction\n",
    "from statsmodels.stats.proportion import proportions_ztest\n",
    "\n",
    "# set the counts of converted users for new and old page\n",
    "converted_count = np.array([33, 21])\n",
    "\n",
    "# set the sample sizes for new and old page\n",
    "nobs = np.array([50, 50])\n",
    "\n",
    "# find the p-value\n",
    "test_stat, p_value = proportions_ztest(converted_count, nobs, alternative='larger')\n",
    "print('The p-value is ' + str(p_value))"
   ]
  },
  {
   "cell_type": "markdown",
   "metadata": {},
   "source": [
    "### Insight\n",
    "As the p-value 0.008 is much less than the 0.05 level of significance , the null hypothesis can be rejected. There is enough statistical evidence to conclude that the conversion rate for the new page is greater than the old page"
   ]
  },
  {
   "cell_type": "markdown",
   "metadata": {},
   "source": [
    "# <a name='link4'>**4.\tDoes the converted status depend on the preferred language?**</a>\n"
   ]
  },
  {
   "cell_type": "markdown",
   "metadata": {},
   "source": [
    "### Chi-Square Test for Independence\n"
   ]
  },
  {
   "cell_type": "markdown",
   "metadata": {},
   "source": [
    "### Let's revisit the example\n",
    "\n",
    "The language preference data for each user and their conversion status given in the csv file.\n",
    "\n",
    "Do we have enough statistical evidence to conclude that converted status depends on preferred language?"
   ]
  },
  {
   "cell_type": "code",
   "execution_count": 227,
   "metadata": {},
   "outputs": [
    {
     "data": {
      "image/png": "[encoded data removed]",
      "text/plain": [
       "<Figure size 720x504 with 1 Axes>"
      ]
     },
     "metadata": {
      "needs_background": "light"
     },
     "output_type": "display_data"
    }
   ],
   "source": [
    "# define the figure and plot; modify the countplot figure size\n",
    "countplt, ax = plt.subplots(figsize = (10,7))\n",
    "ax = sns.countplot(x='language_preferred',hue='converted',data=data)"
   ]
  },
  {
   "cell_type": "markdown",
   "metadata": {},
   "source": [
    "**Observations**\n",
    "*  With help of countplot, visual analysis shows that the converted status does not depend on language preferred."
   ]
  },
  {
   "cell_type": "markdown",
   "metadata": {},
   "source": [
    "## Step 1: Define null and alternative hypotheses\n",
    "\n",
    "\n",
    "We will test the null hypothesis\n",
    "\n",
    ">$H_0:$ Converted status is independent on preferred language.\n",
    "\n",
    "against the alternate hypothesis\n",
    "\n",
    ">$H_a:$ Converted status is NOT independent on user's preferred language"
   ]
  },
  {
   "cell_type": "markdown",
   "metadata": {},
   "source": [
    "## Step 2: Select Appropriate test"
   ]
  },
  {
   "cell_type": "markdown",
   "metadata": {},
   "source": [
    "The formulated hypotheses can be tested using a Chi-square test of independence of attributes, concerning the two categorical variables, language preference and conversion status."
   ]
  },
  {
   "cell_type": "markdown",
   "metadata": {},
   "source": [
    "## Step 3: Decide the significance level"
   ]
  },
  {
   "cell_type": "markdown",
   "metadata": {},
   "source": [
    "Here, we select α= 0.05."
   ]
  },
  {
   "cell_type": "markdown",
   "metadata": {},
   "source": [
    "## Step 4: Data Preparation"
   ]
  },
  {
   "cell_type": "code",
   "execution_count": 168,
   "metadata": {},
   "outputs": [
    {
     "data": {
      "text/html": [
       "<div>\n",
       "<style scoped>\n",
       "    .dataframe tbody tr th:only-of-type {\n",
       "        vertical-align: middle;\n",
       "    }\n",
       "\n",
       "    .dataframe tbody tr th {\n",
       "        vertical-align: top;\n",
       "    }\n",
       "\n",
       "    .dataframe thead th {\n",
       "        text-align: right;\n",
       "    }\n",
       "</style>\n",
       "<table border=\"1\" class=\"dataframe\">\n",
       "  <thead>\n",
       "    <tr style=\"text-align: right;\">\n",
       "      <th>language_preferred</th>\n",
       "      <th>English</th>\n",
       "      <th>French</th>\n",
       "      <th>Spanish</th>\n",
       "    </tr>\n",
       "    <tr>\n",
       "      <th>converted</th>\n",
       "      <th></th>\n",
       "      <th></th>\n",
       "      <th></th>\n",
       "    </tr>\n",
       "  </thead>\n",
       "  <tbody>\n",
       "    <tr>\n",
       "      <th>no</th>\n",
       "      <td>11</td>\n",
       "      <td>19</td>\n",
       "      <td>16</td>\n",
       "    </tr>\n",
       "    <tr>\n",
       "      <th>yes</th>\n",
       "      <td>21</td>\n",
       "      <td>15</td>\n",
       "      <td>18</td>\n",
       "    </tr>\n",
       "  </tbody>\n",
       "</table>\n",
       "</div>"
      ],
      "text/plain": [
       "language_preferred  English  French  Spanish\n",
       "converted                                   \n",
       "no                       11      19       16\n",
       "yes                      21      15       18"
      ]
     },
     "execution_count": 168,
     "metadata": {},
     "output_type": "execute_result"
    }
   ],
   "source": [
    "# prepare the data by create a crosstab of 2x3\n",
    "\n",
    "\n",
    "data_ct = pd.crosstab(index = data.converted, columns = data.language_preferred)\n",
    "data_ct.head()\n"
   ]
  },
  {
   "cell_type": "markdown",
   "metadata": {},
   "source": [
    "Data is ready in the form of a two-by-three contingency table, with the counts of 'English', 'French', and 'Spanish' in the columns; and the counts of 'Converted status' as yes and no in the rows."
   ]
  },
  {
   "cell_type": "markdown",
   "metadata": {},
   "source": [
    "## Step 5: Calculate the p-value"
   ]
  },
  {
   "cell_type": "code",
   "execution_count": 166,
   "metadata": {},
   "outputs": [
    {
     "name": "stdout",
     "output_type": "stream",
     "text": [
      "The p-value is 0.21298887487543447\n"
     ]
    }
   ],
   "source": [
    "# use chi2_contingency() to find the p-value\n",
    "chi2, pval, dof, exp_freq = chi2_contingency(data_ct)\n",
    "# print the p-value\n",
    "print('The p-value is', pval)"
   ]
  },
  {
   "cell_type": "markdown",
   "metadata": {},
   "source": [
    "## Step 6: Compare the p-value with $\\alpha$"
   ]
  },
  {
   "cell_type": "code",
   "execution_count": 225,
   "metadata": {},
   "outputs": [
    {
     "name": "stdout",
     "output_type": "stream",
     "text": [
      "As the p-value 0.43204138694325955 is greater than the level of significance, we fail to reject the null hypothesis.\n"
     ]
    }
   ],
   "source": [
    "# print the conclusion based on p-value\n",
    "if pval < 0.05:\n",
    "    print(f'As the p-value {pval} is less than the level of significance, we reject the null hypothesis.')\n",
    "else:\n",
    "    print(f'As the p-value {pval} is greater than the level of significance, we fail to reject the null hypothesis.')"
   ]
  },
  {
   "cell_type": "markdown",
   "metadata": {},
   "source": [
    "## Step 7:  Conclusion"
   ]
  },
  {
   "cell_type": "markdown",
   "metadata": {},
   "source": [
    "Since the pvalue is > 0.05, we fail to reject the null hypothesis. Hence, we do not have enough statistical evidence to say that converted status is NOT independent of language preferred."
   ]
  },
  {
   "cell_type": "markdown",
   "metadata": {},
   "source": [
    "### Insight\n",
    "\n",
    "Converted status is independent of language preferred. "
   ]
  },
  {
   "cell_type": "markdown",
   "metadata": {},
   "source": [
    "# <a name='link5'>**5.\tIs the mean time spent on the new page same for the different language users?**</a>"
   ]
  },
  {
   "cell_type": "markdown",
   "metadata": {
    "id": "7ZLntwM_WcK2"
   },
   "source": [
    "### One-way ANOVA Test"
   ]
  },
  {
   "cell_type": "markdown",
   "metadata": {
    "id": "qxvEn474b25J"
   },
   "source": [
    "### Let's revisit the example\n",
    "\n",
    "We want to understand whether mean time spent on the new page is different for different language users? We believe that mean time spent on the new page is same for all language users.\n",
    "\n",
    "For this purpose, we take random samples from all users that were part of \"Treatment\" group and given the new page and would like to test if the mean time spent depends on prefered language at 5% significance level."
   ]
  },
  {
   "cell_type": "markdown",
   "metadata": {
    "id": "lFMixr_Af40Q"
   },
   "source": [
    "### Let's create a dataframe that only has rows for new page"
   ]
  },
  {
   "cell_type": "code",
   "execution_count": 173,
   "metadata": {
    "colab": {
     "base_uri": "https://localhost:8080/",
     "height": 204
    },
    "id": "ab3mUcIxgKeH",
    "outputId": "7b2cd5d7-4648-4ddd-d234-ddd3f72f9c44"
   },
   "outputs": [
    {
     "data": {
      "text/html": [
       "<div>\n",
       "<style scoped>\n",
       "    .dataframe tbody tr th:only-of-type {\n",
       "        vertical-align: middle;\n",
       "    }\n",
       "\n",
       "    .dataframe tbody tr th {\n",
       "        vertical-align: top;\n",
       "    }\n",
       "\n",
       "    .dataframe thead th {\n",
       "        text-align: right;\n",
       "    }\n",
       "</style>\n",
       "<table border=\"1\" class=\"dataframe\">\n",
       "  <thead>\n",
       "    <tr style=\"text-align: right;\">\n",
       "      <th></th>\n",
       "      <th>user_id</th>\n",
       "      <th>group</th>\n",
       "      <th>landing_page</th>\n",
       "      <th>time_spent_on_the_page</th>\n",
       "      <th>converted</th>\n",
       "      <th>language_preferred</th>\n",
       "    </tr>\n",
       "  </thead>\n",
       "  <tbody>\n",
       "    <tr>\n",
       "      <th>1</th>\n",
       "      <td>546468.0</td>\n",
       "      <td>treatment</td>\n",
       "      <td>new</td>\n",
       "      <td>7.13</td>\n",
       "      <td>yes</td>\n",
       "      <td>English</td>\n",
       "    </tr>\n",
       "    <tr>\n",
       "      <th>2</th>\n",
       "      <td>546462.0</td>\n",
       "      <td>treatment</td>\n",
       "      <td>new</td>\n",
       "      <td>4.40</td>\n",
       "      <td>no</td>\n",
       "      <td>Spanish</td>\n",
       "    </tr>\n",
       "    <tr>\n",
       "      <th>4</th>\n",
       "      <td>546459.0</td>\n",
       "      <td>treatment</td>\n",
       "      <td>new</td>\n",
       "      <td>4.75</td>\n",
       "      <td>yes</td>\n",
       "      <td>Spanish</td>\n",
       "    </tr>\n",
       "    <tr>\n",
       "      <th>6</th>\n",
       "      <td>546448.0</td>\n",
       "      <td>treatment</td>\n",
       "      <td>new</td>\n",
       "      <td>5.25</td>\n",
       "      <td>yes</td>\n",
       "      <td>French</td>\n",
       "    </tr>\n",
       "    <tr>\n",
       "      <th>8</th>\n",
       "      <td>546461.0</td>\n",
       "      <td>treatment</td>\n",
       "      <td>new</td>\n",
       "      <td>10.71</td>\n",
       "      <td>yes</td>\n",
       "      <td>French</td>\n",
       "    </tr>\n",
       "  </tbody>\n",
       "</table>\n",
       "</div>"
      ],
      "text/plain": [
       "    user_id      group landing_page  time_spent_on_the_page converted  \\\n",
       "1  546468.0  treatment          new                    7.13       yes   \n",
       "2  546462.0  treatment          new                    4.40        no   \n",
       "4  546459.0  treatment          new                    4.75       yes   \n",
       "6  546448.0  treatment          new                    5.25       yes   \n",
       "8  546461.0  treatment          new                   10.71       yes   \n",
       "\n",
       "  language_preferred  \n",
       "1            English  \n",
       "2            Spanish  \n",
       "4            Spanish  \n",
       "6             French  \n",
       "8             French  "
      ]
     },
     "execution_count": 173,
     "metadata": {},
     "output_type": "execute_result"
    }
   ],
   "source": [
    "data_newpage = data.where(data[\"landing_page\"] == 'new').dropna()\n",
    "data_newpage.head()"
   ]
  },
  {
   "cell_type": "markdown",
   "metadata": {
    "id": "Cr_N3sAeoqeO"
   },
   "source": [
    "Here, times_spent_on_the_page is the response and language_preferred is the factor."
   ]
  },
  {
   "cell_type": "code",
   "execution_count": 174,
   "metadata": {
    "colab": {
     "base_uri": "https://localhost:8080/"
    },
    "id": "1zyATPm47v6N",
    "outputId": "264b5235-20f1-4b9a-8638-0ad36bff4792"
   },
   "outputs": [
    {
     "data": {
      "text/plain": [
       "French     17\n",
       "Spanish    17\n",
       "English    16\n",
       "Name: language_preferred, dtype: int64"
      ]
     },
     "execution_count": 174,
     "metadata": {},
     "output_type": "execute_result"
    }
   ],
   "source": [
    "# get the levels of factor language_preferred\n",
    "data_newpage['language_preferred'].value_counts()"
   ]
  },
  {
   "cell_type": "code",
   "execution_count": null,
   "metadata": {},
   "outputs": [],
   "source": []
  },
  {
   "cell_type": "markdown",
   "metadata": {
    "id": "j63R8Uh78C-w"
   },
   "source": [
    "### Let's write the null and alternative hypothesis\n",
    "\n",
    "Let $\\mu_1, \\mu_2, \\mu_3$ be the means of time spent on new page for preferred language types English, French, and Spanish respectively.\n",
    "\n",
    "We will test the null hypothesis\n",
    "\n",
    ">$H_0: \\mu_1 = \\mu_2 = \\mu_3$\n",
    "\n",
    "against the alternative hypothesis\n",
    "\n",
    ">$H_a: $ At least one mean (time spent) is different from the rest.\n"
   ]
  },
  {
   "cell_type": "code",
   "execution_count": 230,
   "metadata": {
    "colab": {
     "base_uri": "https://localhost:8080/",
     "height": 492
    },
    "id": "WE2FRb1a9Gxs",
    "outputId": "baa8c2ce-a8c5-45bb-e6cc-03cc334d5165"
   },
   "outputs": [
    {
     "name": "stdout",
     "output_type": "stream",
     "text": [
      "language_preferred\n",
      "English    6.663750\n",
      "French     6.196471\n",
      "Spanish    5.835294\n",
      "Name: time_spent_on_the_page, dtype: float64\n"
     ]
    },
    {
     "data": {
      "image/png": "[encoded data removed]",
      "text/plain": [
       "<Figure size 432x432 with 1 Axes>"
      ]
     },
     "metadata": {
      "needs_background": "light"
     },
     "output_type": "display_data"
    }
   ],
   "source": [
    "# mean of carbon emission at different levels of the fuel_type factor\n",
    "print(data_newpage.groupby(\"language_preferred\")[\"time_spent_on_the_page\"].mean())\n",
    "\n",
    "# draw the boxplot for visualization \n",
    "fig, ax = plt.subplots(figsize = (6,6))\n",
    "a = sns.boxplot(x= \"language_preferred\", y = 'time_spent_on_the_page' , data = data_newpage, hue = 'language_preferred')\n",
    "a.set_title(\"Time Spent w.r.t. Language Preferred (3 types)\", fontsize=15)\n",
    "plt.show()"
   ]
  },
  {
   "cell_type": "markdown",
   "metadata": {},
   "source": [
    "**Observations**\n",
    "*  With help of boxplot, visual analysis shows that the mean time spent on page is between pretty close in range of 5-7 minutes.\n",
    "*  Time spent IQR for three languages is also in close proximity."
   ]
  },
  {
   "cell_type": "markdown",
   "metadata": {
    "id": "qb-sMEm2WtHf"
   },
   "source": [
    "Now, the normality and equality of variance assumptions need to be checked. \n",
    "\n",
    "* For testing of normality, Shapiro-Wilk’s test is applied to the response variable.\n",
    "\n",
    "* For equality of variance, Levene test is applied to the response variable."
   ]
  },
  {
   "cell_type": "markdown",
   "metadata": {
    "id": "_pFdvUuGC6qu"
   },
   "source": [
    "### Shapiro-Wilk’s test\n",
    "\n",
    "We will test the null hypothesis\n",
    "\n",
    ">$H_0:$ Time Spent on New Page follows a normal distribution against\n",
    "\n",
    "against the alternative hypothesis\n",
    "\n",
    ">$H_a:$ Time Spent on New Page does not follow a normal distribution"
   ]
  },
  {
   "cell_type": "code",
   "execution_count": 176,
   "metadata": {
    "colab": {
     "base_uri": "https://localhost:8080/"
    },
    "id": "yHZdbI6hClTY",
    "outputId": "43d972c7-63e0-4376-947a-2e22bacfb23a"
   },
   "outputs": [
    {
     "name": "stdout",
     "output_type": "stream",
     "text": [
      "The p-value is 0.8040016293525696\n"
     ]
    }
   ],
   "source": [
    "# Assumption 1: Normality\n",
    "# import the required function\n",
    "from scipy import stats\n",
    "\n",
    "# find the p-value\n",
    "w, p_value = stats.shapiro(data_newpage['time_spent_on_the_page']) \n",
    "print('The p-value is', p_value)"
   ]
  },
  {
   "cell_type": "markdown",
   "metadata": {
    "id": "h1-_8Mi2EYIU"
   },
   "source": [
    "Since p-value of the test is very large, we fail to reject the null hypothesis that the response follows the normal distribution."
   ]
  },
  {
   "cell_type": "markdown",
   "metadata": {
    "id": "RN7l8dkREpFu"
   },
   "source": [
    "### Levene’s test\n",
    "\n",
    "We will test the null hypothesis\n",
    "\n",
    ">$H_0$: All the population variances are equal\n",
    "\n",
    "against the alternative hypothesis\n",
    "\n",
    ">$H_a$: At least one variance is different from the rest"
   ]
  },
  {
   "cell_type": "code",
   "execution_count": 178,
   "metadata": {
    "colab": {
     "base_uri": "https://localhost:8080/"
    },
    "id": "Jj-jsFGTFKtI",
    "outputId": "b6247937-9127-4bbe-c677-b78eaf5652ce"
   },
   "outputs": [
    {
     "name": "stdout",
     "output_type": "stream",
     "text": [
      "The p-value is 0.46711357711340173\n"
     ]
    }
   ],
   "source": [
    "#Assumption 2: Homogeneity of Variance\n",
    "#import the required function\n",
    "from scipy.stats import levene\n",
    "statistic, p_value = levene( data_newpage['time_spent_on_the_page'][data_newpage['language_preferred']==\"English\"], \n",
    "                                   data_newpage['time_spent_on_the_page'][data_newpage['language_preferred']==\"French\"], \n",
    "                                   data_newpage['time_spent_on_the_page'][data_newpage['language_preferred']==\"Spanish\"])\n",
    "# find the p-value\n",
    "print('The p-value is', p_value)"
   ]
  },
  {
   "cell_type": "markdown",
   "metadata": {
    "id": "v6NjQ3iCF7tj"
   },
   "source": [
    "Since the p-value is large, we fail to reject the null hypothesis of homogeneity of variances."
   ]
  },
  {
   "cell_type": "markdown",
   "metadata": {
    "id": "kvMMknJDq_LU"
   },
   "source": [
    "### Let's test whether the assumptions are satisfied or not\n",
    "\n",
    "* The populations are normally distributed - Yes, the normality assumption is verified using the Shapiro-Wilk’s test.\n",
    "* Samples are independent simple random samples - Yes, we are informed that the collected sample is a simple random sample.\n",
    "* Population variances are equal - Yes, the homogeneity of variance assumption is verified using the Levene's test.\n",
    "\n"
   ]
  },
  {
   "cell_type": "markdown",
   "metadata": {
    "id": "mXyl5ApFr6zU"
   },
   "source": [
    "### Let's find the p-value"
   ]
  },
  {
   "cell_type": "code",
   "execution_count": 185,
   "metadata": {
    "colab": {
     "base_uri": "https://localhost:8080/"
    },
    "id": "HRjKGT13ryta",
    "outputId": "833aa1ea-cacd-4383-cac0-d463e585fc9c"
   },
   "outputs": [
    {
     "name": "stdout",
     "output_type": "stream",
     "text": [
      "The p-value is 0.43204138694325955\n"
     ]
    }
   ],
   "source": [
    "#import the required function\n",
    "from scipy.stats import f_oneway\n",
    "\n",
    "# perform one-way anova test\n",
    "test_stat, pval = f_oneway(data_newpage.loc[data_newpage['language_preferred'] == 'English', 'time_spent_on_the_page'],\n",
    "                              data_newpage.loc[data_newpage['language_preferred'] == 'French', 'time_spent_on_the_page'],\n",
    "                              data_newpage.loc[data_newpage['language_preferred'] == 'Spanish', 'time_spent_on_the_page'])\n",
    "print('The p-value is ' + str(pval))"
   ]
  },
  {
   "cell_type": "code",
   "execution_count": 186,
   "metadata": {},
   "outputs": [
    {
     "name": "stdout",
     "output_type": "stream",
     "text": [
      "As the p-value 0.43204138694325955 is greater than the level of significance, we fail to reject the null hypothesis.\n"
     ]
    }
   ],
   "source": [
    "# print the conclusion based on p-value\n",
    "if pval < 0.05:\n",
    "    print(f'As the p-value {pval} is less than the level of significance, we reject the null hypothesis.')\n",
    "else:\n",
    "    print(f'As the p-value {pval} is greater than the level of significance, we fail to reject the null hypothesis.')"
   ]
  },
  {
   "cell_type": "markdown",
   "metadata": {
    "id": "m4Zat_fyvV3j"
   },
   "source": [
    "### Insight\n",
    "As the p-value is greater than the significance level, we fail to reject the null hypothesis. Hence, we do not have enough statistical significance to conclude that time spent on new page is different for different languages.\n",
    "\n",
    "We conclude that the mean time spent on the new page is same for the different language users.\n"
   ]
  },
  {
   "cell_type": "markdown",
   "metadata": {},
   "source": [
    "### Addtional Test - Multiple Comparison test (Tukey HSD)"
   ]
  },
  {
   "cell_type": "code",
   "execution_count": 188,
   "metadata": {},
   "outputs": [
    {
     "name": "stdout",
     "output_type": "stream",
     "text": [
      " Multiple Comparison of Means - Tukey HSD, FWER=0.05 \n",
      "=====================================================\n",
      " group1  group2 meandiff p-adj   lower  upper  reject\n",
      "-----------------------------------------------------\n",
      "English  French  -0.4673 0.7259 -2.0035  1.069  False\n",
      "English Spanish  -0.8285  0.401 -2.3647 0.7078  False\n",
      " French Spanish  -0.3612  0.816  -1.874 1.1516  False\n",
      "-----------------------------------------------------\n"
     ]
    }
   ],
   "source": [
    "#import the required function\n",
    "from statsmodels.stats.multicomp import pairwise_tukeyhsd\n",
    "\n",
    "# perform multiple pairwise comparison (Tukey HSD)\n",
    "m_comp = pairwise_tukeyhsd(endog = data_newpage['time_spent_on_the_page'], groups = data_newpage['language_preferred'], alpha = 0.05)\n",
    "print(m_comp)"
   ]
  },
  {
   "cell_type": "markdown",
   "metadata": {},
   "source": [
    "### Addtional Insight\n",
    "\n",
    "As the p-values (refer to the p-adj column) for comparing the mean time spent for all pair English, French and Spanish is greater than the significance level, the null hypothesis of equality of all population means can not be rejected.\n",
    "\n",
    "Thus, we can say that the mean time spent on new page for all languages are not significantly different for each other."
   ]
  },
  {
   "cell_type": "markdown",
   "metadata": {},
   "source": [
    "# ---------------------------------------------**The End**-------------------------------------------------"
   ]
  }
 ],
 "metadata": {
  "colab": {
   "collapsed_sections": [],
   "name": "Notebook Week2.ipynb",
   "provenance": []
  },
  "kernelspec": {
   "display_name": "Python 3",
   "language": "python",
   "name": "python3"
  },
  "language_info": {
   "codemirror_mode": {
    "name": "ipython",
    "version": 3
   },
   "file_extension": ".py",
   "mimetype": "text/x-python",
   "name": "python",
   "nbconvert_exporter": "python",
   "pygments_lexer": "ipython3",
   "version": "3.8.8"
  }
 },
 "nbformat": 4,
 "nbformat_minor": 1
}
